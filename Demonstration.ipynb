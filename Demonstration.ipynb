{
 "cells": [
  {
   "cell_type": "markdown",
   "id": "e6f9be4c",
   "metadata": {},
   "source": [
    "## Импорт индексирования"
   ]
  },
  {
   "cell_type": "code",
   "execution_count": 1,
   "id": "2c079dcf",
   "metadata": {},
   "outputs": [],
   "source": [
    "from Indexing import Indexing\n",
    "from Indexing import MongoIndexing"
   ]
  },
  {
   "cell_type": "markdown",
   "id": "2d0d41f8",
   "metadata": {},
   "source": [
    "## Работа с индексированием без записи в БД"
   ]
  },
  {
   "cell_type": "code",
   "execution_count": 2,
   "id": "1d8dcb37",
   "metadata": {},
   "outputs": [
    {
     "data": {
      "text/plain": [
       "{0: 'https://ramenslurp.ru/',\n",
       " 1: 'https://ramenslurp.ru/menu',\n",
       " 2: 'https://ramenslurp.ru/contacts',\n",
       " 3: 'https://ramenslurp.ru/delivery',\n",
       " 4: 'https://ramenslurp.ru/calorii'}"
      ]
     },
     "execution_count": 2,
     "metadata": {},
     "output_type": "execute_result"
    }
   ],
   "source": [
    "indexing = Indexing()\n",
    "indexing.add_to_index('reports/slurp.report')\n",
    "indexing.urls_ids"
   ]
  },
  {
   "cell_type": "code",
   "execution_count": 3,
   "id": "9afc0c55",
   "metadata": {},
   "outputs": [
    {
     "data": {
      "text/plain": [
       "{'наш': [0, 2],\n",
       " 'меню': [0, 1, 2, 3, 4],\n",
       " 'главный': [0, 2, 3, 4],\n",
       " 'контакт': [0, 2, 3, 4],\n",
       " 'лапша': [0, 1],\n",
       " 'рамный': [0, 1],\n",
       " 'жуковский': [0, 2, 3, 4],\n",
       " 'большой': [0, 2, 3, 4],\n",
       " 'проспект': [0, 2, 3, 4],\n",
       " 'доставка': [0, 2, 3, 4],\n",
       " 'бесконечно': [0],\n",
       " 'сеть': [0],\n",
       " 'японский': [0],\n",
       " 'лапшичный': [0],\n",
       " 'западный': [0],\n",
       " 'прочтение': [0],\n",
       " 'главное': [0],\n",
       " 'блюдо': [0, 3],\n",
       " 'гордость': [0],\n",
       " 'бульон': [0, 1],\n",
       " 'рамена': [0],\n",
       " 'вариться': [0],\n",
       " 'час': [0],\n",
       " 'свежий': [0],\n",
       " 'домашний': [0, 3],\n",
       " 'делаться': [0],\n",
       " 'вручную': [0],\n",
       " 'кухня': [0],\n",
       " 'каждый': [0],\n",
       " 'день': [0],\n",
       " 'адрес': [0],\n",
       " 'открыть': [0],\n",
       " 'важно': [0],\n",
       " 'минута': [0],\n",
       " 'забыть': [0],\n",
       " 'свой': [0],\n",
       " 'дело': [0],\n",
       " 'забота': [0],\n",
       " 'взять': [0],\n",
       " 'фартук': [0],\n",
       " 'бояться': [0],\n",
       " 'испачкаться': [0],\n",
       " 'начать': [0],\n",
       " 'потягивать': [0],\n",
       " 'громко': [0],\n",
       " 'чавкать': [0],\n",
       " 'самый': [0],\n",
       " 'делать': [0],\n",
       " 'комплимент': [0],\n",
       " 'повар': [0],\n",
       " 'соус': [1],\n",
       " 'зелёный': [1],\n",
       " 'кунжут': [1],\n",
       " 'тоф': [1],\n",
       " 'чеснок': [1],\n",
       " 'яйцо': [1],\n",
       " 'норь': [1],\n",
       " 'курица': [1],\n",
       " 'креветка': [1],\n",
       " 'имбирь': [1],\n",
       " 'капуста': [1],\n",
       " 'морковь': [1],\n",
       " 'дайкон': [1],\n",
       " 'чикен': [1],\n",
       " 'кац': [1],\n",
       " 'брокколи': [1],\n",
       " 'репчатый': [1],\n",
       " 'основа': [1],\n",
       " 'соевый': [1],\n",
       " 'куриный': [1],\n",
       " 'устричный': [1],\n",
       " 'жареный': [1],\n",
       " 'свиной': [1],\n",
       " 'шампиньон': [1],\n",
       " 'шримп': [1],\n",
       " 'сладкий': [1],\n",
       " 'овощной': [1],\n",
       " 'китайский': [1],\n",
       " 'панировка': [1],\n",
       " 'вегана': [1],\n",
       " 'нудло': [1],\n",
       " 'райса': [1],\n",
       " 'перец': [1],\n",
       " 'вешенка': [1],\n",
       " 'шалот': [1],\n",
       " 'белый': [1],\n",
       " 'вино': [1],\n",
       " 'шиитака': [1],\n",
       " 'кукуруза': [1],\n",
       " 'сливочный': [1],\n",
       " 'салат': [1],\n",
       " 'агедася': [1],\n",
       " 'масло': [1],\n",
       " 'даша': [1],\n",
       " 'гедз': [1],\n",
       " 'карри': [1],\n",
       " 'вопрос': [2],\n",
       " 'рада': [2],\n",
       " 'хотеть': [2, 3],\n",
       " 'стать': [2],\n",
       " 'часть': [2],\n",
       " 'команда': [2],\n",
       " 'заполнить': [2],\n",
       " 'форма': [2],\n",
       " 'ниже': [2],\n",
       " 'обязательно': [2],\n",
       " 'связаться': [2],\n",
       " 'наличие': [2],\n",
       " 'свободный': [2],\n",
       " 'вакансия': [2],\n",
       " 'партнёр': [2],\n",
       " 'весь': [2],\n",
       " 'мочь': [2],\n",
       " 'обратиться': [2],\n",
       " 'почта': [2],\n",
       " 'рассмотреть': [2],\n",
       " 'ваш': [2, 3],\n",
       " 'предложение': [2],\n",
       " 'комментарий': [2],\n",
       " 'замечание': [2],\n",
       " 'обслуживание': [2],\n",
       " 'сервис': [2, 3],\n",
       " 'обсудить': [2],\n",
       " 'заказать': [3],\n",
       " 'любимый': [3],\n",
       " 'воспользоваться': [3],\n",
       " 'яндекс': [3],\n",
       " 'спешить': [3],\n",
       " 'насладиться': [3],\n",
       " 'раменом': [3],\n",
       " 'атмосфера': [3],\n",
       " 'больший': [3],\n",
       " 'удовольствие': [3],\n",
       " 'упаковать': [3],\n",
       " 'заказ': [3],\n",
       " 'пищевой': [4],\n",
       " 'ценность': [4]}"
      ]
     },
     "execution_count": 3,
     "metadata": {},
     "output_type": "execute_result"
    }
   ],
   "source": [
    "indexing.indexing_words"
   ]
  },
  {
   "cell_type": "code",
   "execution_count": 4,
   "id": "4da84587",
   "metadata": {},
   "outputs": [
    {
     "data": {
      "text/plain": [
       "['https://ramenslurp.ru/', 'https://ramenslurp.ru/menu']"
      ]
     },
     "execution_count": 4,
     "metadata": {},
     "output_type": "execute_result"
    }
   ],
   "source": [
    "indexing.find_by_word(\"рамен\")"
   ]
  },
  {
   "cell_type": "code",
   "execution_count": 5,
   "id": "0f8eedaa",
   "metadata": {},
   "outputs": [
    {
     "data": {
      "text/plain": [
       "['https://ramenslurp.ru/']"
      ]
     },
     "execution_count": 5,
     "metadata": {},
     "output_type": "execute_result"
    }
   ],
   "source": [
    "indexing.find_by_word(\"японский\")"
   ]
  },
  {
   "cell_type": "code",
   "execution_count": 6,
   "id": "d442bbe5",
   "metadata": {},
   "outputs": [
    {
     "data": {
      "text/plain": [
       "['https://ramenslurp.ru/contacts', 'https://ramenslurp.ru/delivery']"
      ]
     },
     "execution_count": 6,
     "metadata": {},
     "output_type": "execute_result"
    }
   ],
   "source": [
    "indexing.find_by_word(\"хочу\")"
   ]
  },
  {
   "cell_type": "markdown",
   "id": "1982c73f",
   "metadata": {},
   "source": [
    "## Работа с индексированием с записью в БД"
   ]
  },
  {
   "cell_type": "code",
   "execution_count": 6,
   "id": "736826e3",
   "metadata": {},
   "outputs": [],
   "source": [
    "mongo_indexing = MongoIndexing()\n",
    "mongo_indexing.add_to_index('reports/slurp.report')"
   ]
  },
  {
   "cell_type": "code",
   "execution_count": 7,
   "id": "790a18a4",
   "metadata": {},
   "outputs": [
    {
     "data": {
      "text/plain": [
       "['https://ramenslurp.ru/', 'https://ramenslurp.ru/menu']"
      ]
     },
     "execution_count": 7,
     "metadata": {},
     "output_type": "execute_result"
    }
   ],
   "source": [
    "mongo_indexing.find_by_word(\"рамен\")"
   ]
  },
  {
   "cell_type": "code",
   "execution_count": 8,
   "id": "5d1b6f03",
   "metadata": {},
   "outputs": [],
   "source": [
    "mongo_indexing.add_to_index('reports/asiatiq.report')"
   ]
  },
  {
   "cell_type": "code",
   "execution_count": 9,
   "id": "57b77db6",
   "metadata": {},
   "outputs": [
    {
     "data": {
      "text/plain": [
       "['https://ramenslurp.ru/',\n",
       " 'https://ramenslurp.ru/menu',\n",
       " 'https://asiatiq-ramen.ru/']"
      ]
     },
     "execution_count": 9,
     "metadata": {},
     "output_type": "execute_result"
    }
   ],
   "source": [
    "mongo_indexing.find_by_word(\"рамен\")"
   ]
  },
  {
   "cell_type": "code",
   "execution_count": 10,
   "id": "b107a61d",
   "metadata": {},
   "outputs": [
    {
     "data": {
      "text/plain": [
       "['https://asiatiq-ramen.ru/',\n",
       " 'https://asiatiq-ramen.ru/product/%D1%80%D0%B0%D0%BC%D1%8D%D0%BD-%D0%BD%D0%B0-%D0%B3%D0%BE%D0%B2%D1%8F%D0%B6%D1%8C%D0%B5%D0%BC-%D0%B1%D1%83%D0%BB%D1%8C%D0%BE%D0%BD%D0%B5-%D1%81-%D0%B3%D0%B5%D0%B4%D0%B7%D0%B0/',\n",
       " 'https://asiatiq-ramen.ru/product/%D1%80%D0%B0%D0%BC%D1%8D%D0%BD-%D0%BD%D0%B0-%D0%BA%D1%80%D0%B5%D0%B2%D0%B5%D1%82%D0%BE%D1%87%D0%BD%D0%BE%D0%BC-%D0%B1%D1%83%D0%BB%D1%8C%D0%BE%D0%BD%D0%B5-%D1%81-%D0%BA%D1%80%D0%B5%D0%B2%D0%B5%D1%82/',\n",
       " 'https://asiatiq-ramen.ru/product/%D0%BC%D0%B0%D1%82%D1%82%D1%8F-%D1%80%D0%B0%D0%BC%D1%8D%D0%BD-%D1%81-%D1%82%D0%BE%D1%84%D1%83/',\n",
       " 'https://asiatiq-ramen.ru/product/%D0%BA%D0%BE%D0%BA%D0%BE%D1%81%D0%BE%D0%B2%D1%8B%D0%B9-%D1%80%D0%B0%D0%BC%D1%8D%D0%BD-%D1%81-%D1%82%D0%BE%D1%84%D1%83/',\n",
       " 'https://asiatiq-ramen.ru/product/%D0%BC%D0%B8%D1%81%D0%BE-%D1%80%D0%B0%D0%BC%D1%8D%D0%BD-%D1%81-%D1%82%D0%BE%D1%84%D1%83/',\n",
       " 'https://asiatiq-ramen.ru/product/%D1%82%D0%BE%D0%BC-%D1%8F%D0%BC-%D1%80%D0%B0%D0%BC%D1%8D%D0%BD-%D1%81-%D0%BA%D1%80%D0%B5%D0%B2%D0%B5%D1%82%D0%BA%D0%BE%D0%B9/',\n",
       " 'https://asiatiq-ramen.ru/shop/',\n",
       " 'https://asiatiq-ramen.ru/cart/']"
      ]
     },
     "execution_count": 10,
     "metadata": {},
     "output_type": "execute_result"
    }
   ],
   "source": [
    "mongo_indexing.find_by_word(\"рамэн\")"
   ]
  },
  {
   "cell_type": "code",
   "execution_count": 11,
   "id": "6619ca43",
   "metadata": {},
   "outputs": [],
   "source": [
    "mongo_indexing.clear_index()"
   ]
  }
 ],
 "metadata": {
  "kernelspec": {
   "display_name": "Python 3 (ipykernel)",
   "language": "python",
   "name": "python3"
  },
  "language_info": {
   "codemirror_mode": {
    "name": "ipython",
    "version": 3
   },
   "file_extension": ".py",
   "mimetype": "text/x-python",
   "name": "python",
   "nbconvert_exporter": "python",
   "pygments_lexer": "ipython3",
   "version": "3.9.7"
  }
 },
 "nbformat": 4,
 "nbformat_minor": 5
}
