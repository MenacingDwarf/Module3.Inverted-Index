{
 "cells": [
  {
   "cell_type": "code",
   "execution_count": 1,
   "metadata": {},
   "outputs": [],
   "source": [
    "def EliasGammaDecode(dataflow):\n",
    "    N=0\n",
    "    i=0\n",
    "    length=0\n",
    "    length=len(dataflow)\n",
    "    #print('length value:')\n",
    "    #print(length)\n",
    "    for i in range(length):\n",
    "        if (dataflow[i] == '0'):\n",
    "            N=N+1\n",
    "        #print('N value:')\n",
    "        #print(N)\n",
    "        #print('dataflow')\n",
    "        #print(dataflow)\n",
    "        #Traverse the array and stop when it encounters a value of 1\n",
    "        if (dataflow[i] == '1'):\n",
    "            break\n",
    "    two_to_the_Nth_power=pow(2, N)   \n",
    "    #The other numbers after the first 1 are in binary notation, convert it to decimal and assign it to M\n",
    "    #Traverse the remaining numbers in the list, the subscript starts from i+1 or N+1\n",
    "    k=0\n",
    "    final_remaining_dataflow=[]\n",
    "    for k in dataflow[N+1:]:\n",
    "        number=k\n",
    "        final_remaining_dataflow.append(number)   \n",
    "    print('The final remaining dataflow')\n",
    "    print(final_remaining_dataflow)\n",
    "    M_bin=str(''.join(final_remaining_dataflow))\n",
    "    print('M_bin')\n",
    "    print(M_bin)\n",
    "    print(type(M_bin))\n",
    "    \n",
    "    M=int(M_bin,2)\n",
    "    print('M:')\n",
    "    print(M)\n",
    "    decoding=two_to_the_Nth_power+M\n",
    "    return decoding"
   ]
  },
  {
   "cell_type": "code",
   "execution_count": 5,
   "metadata": {},
   "outputs": [
    {
     "name": "stdout",
     "output_type": "stream",
     "text": [
      "Enter a number to decode in Elias Delta: 000100100101\n",
      "['0', '0', '0', '1', '0', '0', '1', '0', '0', '1', '0', '1']\n",
      "Decoding:\n",
      "The final remaining dataflow\n",
      "['0', '0', '1', '0', '0', '1', '0', '1']\n",
      "M_bin\n",
      "00100101\n",
      "<class 'str'>\n",
      "M:\n",
      "37\n",
      "45\n"
     ]
    }
   ],
   "source": [
    "dataflow = list(input('Enter a number to decode in Elias Delta: '))\n",
    "print(dataflow)\n",
    "print('Decoding:')\n",
    "print(EliasGammaDecode(dataflow))"
   ]
  },
  {
   "cell_type": "code",
   "execution_count": null,
   "metadata": {},
   "outputs": [],
   "source": []
  }
 ],
 "metadata": {
  "kernelspec": {
   "display_name": "Python 3 (ipykernel)",
   "language": "python",
   "name": "python3"
  },
  "language_info": {
   "codemirror_mode": {
    "name": "ipython",
    "version": 3
   },
   "file_extension": ".py",
   "mimetype": "text/x-python",
   "name": "python",
   "nbconvert_exporter": "python",
   "pygments_lexer": "ipython3",
   "version": "3.9.7"
  }
 },
 "nbformat": 4,
 "nbformat_minor": 4
}
